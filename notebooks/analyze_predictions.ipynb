{
 "cells": [
  {
   "cell_type": "code",
   "execution_count": 1,
   "metadata": {},
   "outputs": [],
   "source": [
    "import sys\n",
    "import os\n",
    "import pandas as pd\n",
    "import numpy as np\n",
    "import seaborn as sb\n",
    "import matplotlib.pyplot as plt\n",
    "from astropy.table import Table\n",
    "from sklearn.externals import joblib\n",
    "import seaborn as sns\n",
    "\n",
    "%matplotlib inline\n",
    "sns.set(style=\"white\", color_codes=True, context=\"notebook\", font_scale=1.4)\n",
    "\n",
    "mainpath = '/Users/jorgetil/Astro/HITS'"
   ]
  },
  {
   "cell_type": "code",
   "execution_count": 3,
   "metadata": {},
   "outputs": [],
   "source": [
    "candidates = pd.read_csv('%s/tables/HiTS_all_candidates_from_RFC_hierar_var5.csv'\n",
    "                        % (mainpath))\n",
    "candidates.set_index('Unnamed: 0', inplace=True)\n",
    "#candidates.drop('Unnamed: 0', axis=1, inplace=True)"
   ]
  },
  {
   "cell_type": "code",
   "execution_count": 4,
   "metadata": {},
   "outputs": [
    {
     "data": {
      "text/html": [
       "<div>\n",
       "<table border=\"1\" class=\"dataframe\">\n",
       "  <thead>\n",
       "    <tr style=\"text-align: right;\">\n",
       "      <th></th>\n",
       "      <th>Var_prob</th>\n",
       "      <th>Pred_Var_Type_05</th>\n",
       "      <th>Per_prob</th>\n",
       "      <th>Pred_VarPer_Type</th>\n",
       "      <th>DSCT</th>\n",
       "      <th>EB</th>\n",
       "      <th>ROTVAR</th>\n",
       "      <th>RRLYR</th>\n",
       "      <th>Pred_VarPerSub_Type</th>\n",
       "      <th>CV</th>\n",
       "      <th>QSO</th>\n",
       "      <th>SNe</th>\n",
       "      <th>Pred_VarNonPerSub_Type</th>\n",
       "      <th>Pred_class</th>\n",
       "    </tr>\n",
       "    <tr>\n",
       "      <th>Unnamed: 0</th>\n",
       "      <th></th>\n",
       "      <th></th>\n",
       "      <th></th>\n",
       "      <th></th>\n",
       "      <th></th>\n",
       "      <th></th>\n",
       "      <th></th>\n",
       "      <th></th>\n",
       "      <th></th>\n",
       "      <th></th>\n",
       "      <th></th>\n",
       "      <th></th>\n",
       "      <th></th>\n",
       "      <th></th>\n",
       "    </tr>\n",
       "  </thead>\n",
       "  <tbody>\n",
       "    <tr>\n",
       "      <th>Blind14A_01_N10_0080_2020</th>\n",
       "      <td>0.000000</td>\n",
       "      <td>NonVar</td>\n",
       "      <td>NaN</td>\n",
       "      <td>NaN</td>\n",
       "      <td>NaN</td>\n",
       "      <td>NaN</td>\n",
       "      <td>NaN</td>\n",
       "      <td>NaN</td>\n",
       "      <td>NaN</td>\n",
       "      <td>NaN</td>\n",
       "      <td>NaN</td>\n",
       "      <td>NaN</td>\n",
       "      <td>NaN</td>\n",
       "      <td>NV</td>\n",
       "    </tr>\n",
       "    <tr>\n",
       "      <th>Blind14A_01_N10_0151_0857</th>\n",
       "      <td>0.007529</td>\n",
       "      <td>NonVar</td>\n",
       "      <td>NaN</td>\n",
       "      <td>NaN</td>\n",
       "      <td>NaN</td>\n",
       "      <td>NaN</td>\n",
       "      <td>NaN</td>\n",
       "      <td>NaN</td>\n",
       "      <td>NaN</td>\n",
       "      <td>NaN</td>\n",
       "      <td>NaN</td>\n",
       "      <td>NaN</td>\n",
       "      <td>NaN</td>\n",
       "      <td>NV</td>\n",
       "    </tr>\n",
       "    <tr>\n",
       "      <th>Blind14A_01_N10_0169_1107</th>\n",
       "      <td>0.000000</td>\n",
       "      <td>NonVar</td>\n",
       "      <td>NaN</td>\n",
       "      <td>NaN</td>\n",
       "      <td>NaN</td>\n",
       "      <td>NaN</td>\n",
       "      <td>NaN</td>\n",
       "      <td>NaN</td>\n",
       "      <td>NaN</td>\n",
       "      <td>NaN</td>\n",
       "      <td>NaN</td>\n",
       "      <td>NaN</td>\n",
       "      <td>NaN</td>\n",
       "      <td>NV</td>\n",
       "    </tr>\n",
       "    <tr>\n",
       "      <th>Blind14A_01_N10_0251_2356</th>\n",
       "      <td>0.000000</td>\n",
       "      <td>NonVar</td>\n",
       "      <td>NaN</td>\n",
       "      <td>NaN</td>\n",
       "      <td>NaN</td>\n",
       "      <td>NaN</td>\n",
       "      <td>NaN</td>\n",
       "      <td>NaN</td>\n",
       "      <td>NaN</td>\n",
       "      <td>NaN</td>\n",
       "      <td>NaN</td>\n",
       "      <td>NaN</td>\n",
       "      <td>NaN</td>\n",
       "      <td>NV</td>\n",
       "    </tr>\n",
       "    <tr>\n",
       "      <th>Blind14A_01_N10_0280_0759</th>\n",
       "      <td>0.007529</td>\n",
       "      <td>NonVar</td>\n",
       "      <td>NaN</td>\n",
       "      <td>NaN</td>\n",
       "      <td>NaN</td>\n",
       "      <td>NaN</td>\n",
       "      <td>NaN</td>\n",
       "      <td>NaN</td>\n",
       "      <td>NaN</td>\n",
       "      <td>NaN</td>\n",
       "      <td>NaN</td>\n",
       "      <td>NaN</td>\n",
       "      <td>NaN</td>\n",
       "      <td>NV</td>\n",
       "    </tr>\n",
       "  </tbody>\n",
       "</table>\n",
       "</div>"
      ],
      "text/plain": [
       "                           Var_prob Pred_Var_Type_05  Per_prob  \\\n",
       "Unnamed: 0                                                       \n",
       "Blind14A_01_N10_0080_2020  0.000000           NonVar       NaN   \n",
       "Blind14A_01_N10_0151_0857  0.007529           NonVar       NaN   \n",
       "Blind14A_01_N10_0169_1107  0.000000           NonVar       NaN   \n",
       "Blind14A_01_N10_0251_2356  0.000000           NonVar       NaN   \n",
       "Blind14A_01_N10_0280_0759  0.007529           NonVar       NaN   \n",
       "\n",
       "                          Pred_VarPer_Type  DSCT  EB  ROTVAR  RRLYR  \\\n",
       "Unnamed: 0                                                            \n",
       "Blind14A_01_N10_0080_2020              NaN   NaN NaN     NaN    NaN   \n",
       "Blind14A_01_N10_0151_0857              NaN   NaN NaN     NaN    NaN   \n",
       "Blind14A_01_N10_0169_1107              NaN   NaN NaN     NaN    NaN   \n",
       "Blind14A_01_N10_0251_2356              NaN   NaN NaN     NaN    NaN   \n",
       "Blind14A_01_N10_0280_0759              NaN   NaN NaN     NaN    NaN   \n",
       "\n",
       "                          Pred_VarPerSub_Type  CV  QSO  SNe  \\\n",
       "Unnamed: 0                                                    \n",
       "Blind14A_01_N10_0080_2020                 NaN NaN  NaN  NaN   \n",
       "Blind14A_01_N10_0151_0857                 NaN NaN  NaN  NaN   \n",
       "Blind14A_01_N10_0169_1107                 NaN NaN  NaN  NaN   \n",
       "Blind14A_01_N10_0251_2356                 NaN NaN  NaN  NaN   \n",
       "Blind14A_01_N10_0280_0759                 NaN NaN  NaN  NaN   \n",
       "\n",
       "                          Pred_VarNonPerSub_Type Pred_class  \n",
       "Unnamed: 0                                                   \n",
       "Blind14A_01_N10_0080_2020                    NaN         NV  \n",
       "Blind14A_01_N10_0151_0857                    NaN         NV  \n",
       "Blind14A_01_N10_0169_1107                    NaN         NV  \n",
       "Blind14A_01_N10_0251_2356                    NaN         NV  \n",
       "Blind14A_01_N10_0280_0759                    NaN         NV  "
      ]
     },
     "execution_count": 4,
     "metadata": {},
     "output_type": "execute_result"
    }
   ],
   "source": [
    "candidates.head()"
   ]
  },
  {
   "cell_type": "code",
   "execution_count": 5,
   "metadata": {},
   "outputs": [
    {
     "data": {
      "text/plain": [
       "NV        2532615\n",
       "QSO          1890\n",
       "ROTVAR        654\n",
       "EB            372\n",
       "CV            250\n",
       "RRLYR         195\n",
       "DSCT           95\n",
       "SNe            29\n",
       "Name: Pred_class, dtype: int64"
      ]
     },
     "execution_count": 5,
     "metadata": {},
     "output_type": "execute_result"
    }
   ],
   "source": [
    "candidates.Pred_class.value_counts()"
   ]
  },
  {
   "cell_type": "code",
   "execution_count": 6,
   "metadata": {},
   "outputs": [
    {
     "data": {
      "text/plain": [
       "(array([  2.25481700e+06,   2.26626000e+05,   4.04570000e+04,\n",
       "          7.87600000e+03,   2.83900000e+03,   1.46500000e+03,\n",
       "          7.21000000e+02,   4.77000000e+02,   3.24000000e+02,\n",
       "          4.98000000e+02]),\n",
       " array([ 0. ,  0.1,  0.2,  0.3,  0.4,  0.5,  0.6,  0.7,  0.8,  0.9,  1. ]),\n",
       " <a list of 10 Patch objects>)"
      ]
     },
     "execution_count": 6,
     "metadata": {},
     "output_type": "execute_result"
    },
    {
     "data": {
      "image/png": "[encoded data removed]",
      "text/plain": [
       "<matplotlib.figure.Figure at 0x831721950>"
      ]
     },
     "metadata": {},
     "output_type": "display_data"
    }
   ],
   "source": [
    "plt.hist(candidates.Var_prob)"
   ]
  },
  {
   "cell_type": "code",
   "execution_count": 7,
   "metadata": {},
   "outputs": [
    {
     "name": "stdout",
     "output_type": "stream",
     "text": [
      "(2482255, 14)\n"
     ]
    }
   ],
   "source": [
    "NV = candidates[candidates.Var_prob < .2]\n",
    "DSCT = candidates[candidates.DSCT > .8]\n",
    "EB = candidates[candidates.EB > .8]\n",
    "ROTVAR = candidates[candidates.ROTVAR > .8]\n",
    "RRLYR = candidates[candidates.RRLYR > .8]\n",
    "CV = candidates[candidates.CV > .8]\n",
    "QSO = candidates[candidates.QSO > .8]\n",
    "SNe = candidates[candidates.SNe > .8]\n",
    "\n",
    "above_thresh = pd.concat([NV, DSCT, EB, ROTVAR, RRLYR, CV, QSO, SNe])\n",
    "print above_thresh.shape"
   ]
  },
  {
   "cell_type": "code",
   "execution_count": 8,
   "metadata": {},
   "outputs": [
    {
     "data": {
      "text/plain": [
       "NV        2481443\n",
       "QSO           630\n",
       "RRLYR          90\n",
       "ROTVAR         48\n",
       "EB             39\n",
       "CV              3\n",
       "SNe             1\n",
       "DSCT            1\n",
       "Name: Pred_class, dtype: int64"
      ]
     },
     "execution_count": 8,
     "metadata": {},
     "output_type": "execute_result"
    }
   ],
   "source": [
    "above_thresh.Pred_class.value_counts()"
   ]
  },
  {
   "cell_type": "code",
   "execution_count": 9,
   "metadata": {},
   "outputs": [
    {
     "name": "stdout",
     "output_type": "stream",
     "text": [
      "Empty DataFrame\n",
      "Columns: []\n",
      "Index: []\n"
     ]
    }
   ],
   "source": [
    "summary = pd.DataFrame(dtype=int)\n",
    "print summary"
   ]
  },
  {
   "cell_type": "code",
   "execution_count": 10,
   "metadata": {
    "scrolled": false
   },
   "outputs": [
    {
     "name": "stdout",
     "output_type": "stream",
     "text": [
      "CV\n",
      "(250, 14)\n",
      "DSCT\n",
      "(95, 14)\n",
      "EB\n",
      "(372, 14)\n",
      "NV\n",
      "(2532615, 14)\n",
      "QSO\n",
      "(1890, 14)\n",
      "ROTVAR\n",
      "(654, 14)\n",
      "RRLYR\n",
      "(195, 14)\n",
      "SNe\n",
      "(29, 14)\n"
     ]
    }
   ],
   "source": [
    "for label in sorted(set(candidates.Pred_class)):\n",
    "    print label\n",
    "    only = candidates.query('Pred_class == \"%s\"' % (label))\n",
    "    print only.shape\n",
    "    if label == 'NV':\n",
    "        probas = 1 - only.Var_prob\n",
    "    else:\n",
    "        probas = only['%s' % label]\n",
    "    summary.loc[label, '>50'] = len(probas[probas >= .5])\n",
    "    summary.loc[label, '>60'] = len(probas[probas >= .6])\n",
    "    summary.loc[label, '>70'] = len(probas[probas >= .7])\n",
    "    summary.loc[label, '>80'] = len(probas[probas >= .8])\n",
    "    summary.loc[label, '>90'] = len(probas[probas >= .9])\n",
    "    if False:\n",
    "        plt.hist(probas, cumulative=True, histtype='step', bins=20, lw=2)\n",
    "        plt.show()"
   ]
  },
  {
   "cell_type": "code",
   "execution_count": 11,
   "metadata": {},
   "outputs": [],
   "source": [
    "summary.loc['Periodic', '>50'] = len(candidates[candidates.Per_prob >= .5])\n",
    "summary.loc['Periodic', '>60'] = len(candidates[candidates.Per_prob >= .6])\n",
    "summary.loc['Periodic', '>70'] = len(candidates[candidates.Per_prob >= .7])\n",
    "summary.loc['Periodic', '>80'] = len(candidates[candidates.Per_prob >= .8])\n",
    "summary.loc['Periodic', '>90'] = len(candidates[candidates.Per_prob >= .9])\n",
    "\n",
    "summary.loc['NonPeriodic', '>50'] = len(candidates[candidates.Per_prob < .5])\n",
    "summary.loc['NonPeriodic', '>60'] = len(candidates[candidates.Per_prob < .4])\n",
    "summary.loc['NonPeriodic', '>70'] = len(candidates[candidates.Per_prob < .3])\n",
    "summary.loc['NonPeriodic', '>80'] = len(candidates[candidates.Per_prob < .2])\n",
    "summary.loc['NonPeriodic', '>90'] = len(candidates[candidates.Per_prob < .1])\n",
    "\n",
    "\n",
    "\n",
    "summary.loc['Variable', '>50'] = len(candidates[candidates.Var_prob >= .5])\n",
    "summary.loc['Variable', '>60'] = len(candidates[candidates.Var_prob >= .6])\n",
    "summary.loc['Variable', '>70'] = len(candidates[candidates.Var_prob >= .7])\n",
    "summary.loc['Variable', '>80'] = len(candidates[candidates.Var_prob >= .8])\n",
    "summary.loc['Variable', '>90'] = len(candidates[candidates.Var_prob >= .9])"
   ]
  },
  {
   "cell_type": "code",
   "execution_count": 12,
   "metadata": {},
   "outputs": [
    {
     "name": "stdout",
     "output_type": "stream",
     "text": [
      "\\begin{tabular}{lrrrrr}\n",
      "\\toprule\n",
      "{} &      >90 &      >80 &      >70 &      >60 &      >50 \\\\\n",
      "\\midrule\n",
      "Variable    &      498 &      822 &     1361 &     2130 &     3485 \\\\\n",
      "NV          &  2325011 &  2488889 &  2521900 &  2530130 &  2532615 \\\\\n",
      "Periodic    &      234 &      397 &      619 &      944 &     1321 \\\\\n",
      "NonPeriodic &      432 &      893 &     1326 &     1769 &     2164 \\\\\n",
      "DSCT        &        1 &        3 &        7 &       20 &       43 \\\\\n",
      "EB          &       12 &       60 &      114 &      194 &      289 \\\\\n",
      "ROTVAR      &       14 &       66 &      156 &      342 &      538 \\\\\n",
      "RRLYR       &       70 &       97 &      111 &      133 &      144 \\\\\n",
      "CV          &        0 &        3 &       24 &       95 &      236 \\\\\n",
      "QSO         &      231 &      747 &     1261 &     1641 &     1849 \\\\\n",
      "SNe         &        0 &        1 &        4 &        8 &       17 \\\\\n",
      "\\bottomrule\n",
      "\\end{tabular}\n",
      "\n"
     ]
    }
   ],
   "source": [
    "to_latex = summary.loc[['Variable','NV','Periodic','NonPeriodic','DSCT','EB','ROTVAR','RRLYR','CV','QSO','SNe'],\n",
    "            ['>90','>80','>70','>60','>50']].astype(dtype=int)\n",
    "print to_latex.to_latex()"
   ]
  },
  {
   "cell_type": "code",
   "execution_count": 13,
   "metadata": {},
   "outputs": [
    {
     "name": "stdout",
     "output_type": "stream",
     "text": [
      "188\n",
      "2536100\n"
     ]
    }
   ],
   "source": [
    "print len(candidates[candidates.Var_prob == .5])\n",
    "print len(candidates)"
   ]
  },
  {
   "cell_type": "code",
   "execution_count": 14,
   "metadata": {},
   "outputs": [
    {
     "data": {
      "text/html": [
       "<div>\n",
       "<table border=\"1\" class=\"dataframe\">\n",
       "  <thead>\n",
       "    <tr style=\"text-align: right;\">\n",
       "      <th></th>\n",
       "      <th>&gt;50</th>\n",
       "      <th>&gt;60</th>\n",
       "      <th>&gt;70</th>\n",
       "      <th>&gt;80</th>\n",
       "      <th>&gt;90</th>\n",
       "    </tr>\n",
       "  </thead>\n",
       "  <tbody>\n",
       "    <tr>\n",
       "      <th>CV</th>\n",
       "      <td>236</td>\n",
       "      <td>95</td>\n",
       "      <td>24</td>\n",
       "      <td>3</td>\n",
       "      <td>0</td>\n",
       "    </tr>\n",
       "    <tr>\n",
       "      <th>DSCT</th>\n",
       "      <td>43</td>\n",
       "      <td>20</td>\n",
       "      <td>7</td>\n",
       "      <td>3</td>\n",
       "      <td>1</td>\n",
       "    </tr>\n",
       "    <tr>\n",
       "      <th>EB</th>\n",
       "      <td>289</td>\n",
       "      <td>194</td>\n",
       "      <td>114</td>\n",
       "      <td>60</td>\n",
       "      <td>12</td>\n",
       "    </tr>\n",
       "    <tr>\n",
       "      <th>NV</th>\n",
       "      <td>2532615</td>\n",
       "      <td>2530130</td>\n",
       "      <td>2521900</td>\n",
       "      <td>2488889</td>\n",
       "      <td>2325011</td>\n",
       "    </tr>\n",
       "    <tr>\n",
       "      <th>QSO</th>\n",
       "      <td>1849</td>\n",
       "      <td>1641</td>\n",
       "      <td>1261</td>\n",
       "      <td>747</td>\n",
       "      <td>231</td>\n",
       "    </tr>\n",
       "    <tr>\n",
       "      <th>ROTVAR</th>\n",
       "      <td>538</td>\n",
       "      <td>342</td>\n",
       "      <td>156</td>\n",
       "      <td>66</td>\n",
       "      <td>14</td>\n",
       "    </tr>\n",
       "    <tr>\n",
       "      <th>RRLYR</th>\n",
       "      <td>144</td>\n",
       "      <td>133</td>\n",
       "      <td>111</td>\n",
       "      <td>97</td>\n",
       "      <td>70</td>\n",
       "    </tr>\n",
       "    <tr>\n",
       "      <th>SNe</th>\n",
       "      <td>17</td>\n",
       "      <td>8</td>\n",
       "      <td>4</td>\n",
       "      <td>1</td>\n",
       "      <td>0</td>\n",
       "    </tr>\n",
       "    <tr>\n",
       "      <th>Periodic</th>\n",
       "      <td>1321</td>\n",
       "      <td>944</td>\n",
       "      <td>619</td>\n",
       "      <td>397</td>\n",
       "      <td>234</td>\n",
       "    </tr>\n",
       "    <tr>\n",
       "      <th>NonPeriodic</th>\n",
       "      <td>2164</td>\n",
       "      <td>1769</td>\n",
       "      <td>1326</td>\n",
       "      <td>893</td>\n",
       "      <td>432</td>\n",
       "    </tr>\n",
       "    <tr>\n",
       "      <th>Variable</th>\n",
       "      <td>3485</td>\n",
       "      <td>2130</td>\n",
       "      <td>1361</td>\n",
       "      <td>822</td>\n",
       "      <td>498</td>\n",
       "    </tr>\n",
       "  </tbody>\n",
       "</table>\n",
       "</div>"
      ],
      "text/plain": [
       "                 >50      >60      >70      >80      >90\n",
       "CV               236       95       24        3        0\n",
       "DSCT              43       20        7        3        1\n",
       "EB               289      194      114       60       12\n",
       "NV           2532615  2530130  2521900  2488889  2325011\n",
       "QSO             1849     1641     1261      747      231\n",
       "ROTVAR           538      342      156       66       14\n",
       "RRLYR            144      133      111       97       70\n",
       "SNe               17        8        4        1        0\n",
       "Periodic        1321      944      619      397      234\n",
       "NonPeriodic     2164     1769     1326      893      432\n",
       "Variable        3485     2130     1361      822      498"
      ]
     },
     "execution_count": 14,
     "metadata": {},
     "output_type": "execute_result"
    }
   ],
   "source": [
    "summary.astype(dtype=int)"
   ]
  },
  {
   "cell_type": "code",
   "execution_count": null,
   "metadata": {
    "collapsed": true
   },
   "outputs": [],
   "source": []
  }
 ],
 "metadata": {
  "anaconda-cloud": {},
  "kernelspec": {
   "display_name": "Python [conda root]",
   "language": "python",
   "name": "conda-root-py"
  },
  "language_info": {
   "codemirror_mode": {
    "name": "ipython",
    "version": 2
   },
   "file_extension": ".py",
   "mimetype": "text/x-python",
   "name": "python",
   "nbconvert_exporter": "python",
   "pygments_lexer": "ipython2",
   "version": "2.7.14"
  }
 },
 "nbformat": 4,
 "nbformat_minor": 2
}
