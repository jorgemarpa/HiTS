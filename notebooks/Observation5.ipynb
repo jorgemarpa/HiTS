{
 "cells": [
  {
   "cell_type": "code",
   "execution_count": 1,
   "metadata": {
    "collapsed": false
   },
   "outputs": [],
   "source": [
    "import numpy as np\n",
    "import time\n",
    "import math\n",
    "import scipy as sp\n",
    "import pandas as pd\n",
    "import matplotlib.pyplot as plt\n",
    "import cPickle as pickle\n",
    "from sklearn.tree import DecisionTreeClassifier\n",
    "from sklearn.ensemble import RandomForestClassifier, GradientBoostingClassifier \n",
    "from sklearn import svm\n",
    "from sklearn.metrics import confusion_matrix, accuracy_score, mean_squared_error\n",
    "from sklearn.cross_validation import cross_val_score, KFold, train_test_split\n",
    "from sklearn.decomposition import PCA\n",
    "from sklearn.preprocessing import StandardScaler\n",
    "from sklearn import metrics\n",
    "from sklearn.cluster import KMeans\n",
    "from sklearn.cluster import AgglomerativeClustering\n",
    "from sklearn import preprocessing\n",
    "from sklearn import neighbors\n",
    "import random\n",
    "%matplotlib inline "
   ]
  },
  {
   "cell_type": "code",
   "execution_count": 445,
   "metadata": {
    "collapsed": false
   },
   "outputs": [
    {
     "data": {
      "text/plain": [
       "(3059, 69)"
      ]
     },
     "execution_count": 445,
     "metadata": {},
     "output_type": "execute_result"
    }
   ],
   "source": [
    "cost_data_69 = pd.read_csv('/Users/xidexia/Desktop/299/log/readdata/cost_data_69.csv',index_col=0)\n",
    "#cost_data_69 = pd.read_csv('/Users/xidexia/Desktop/299/try code/neweros_radec_0921.csv',index_col=0)\n",
    "cost_data_69.shape"
   ]
  },
  {
   "cell_type": "code",
   "execution_count": 3,
   "metadata": {
    "collapsed": false
   },
   "outputs": [
    {
     "data": {
      "text/plain": [
       "(array([  15.,   27.,  198.,  403.,  296.,  782.,  767.,  322.,  236.,   13.]),\n",
       " array([ 12.89446219,  13.74722338,  14.59998457,  15.45274576,\n",
       "         16.30550694,  17.15826813,  18.01102932,  18.86379051,\n",
       "         19.7165517 ,  20.56931289,  21.42207407]),\n",
       " <a list of 10 Patch objects>)"
      ]
     },
     "execution_count": 3,
     "metadata": {},
     "output_type": "execute_result"
    },
    {
     "data": {
      "image/png": "[encoded data removed]",
      "text/plain": [
       "<matplotlib.figure.Figure at 0x1042d7b90>"
      ]
     },
     "metadata": {},
     "output_type": "display_data"
    }
   ],
   "source": [
    "a=np.array(cost_data_69['Mean'])+23\n",
    "plt.hist(a)"
   ]
  },
  {
   "cell_type": "code",
   "execution_count": 4,
   "metadata": {
    "collapsed": false
   },
   "outputs": [],
   "source": [
    "b=1.07568*10**(-7)*10**(a/2.5)"
   ]
  },
  {
   "cell_type": "code",
   "execution_count": 5,
   "metadata": {
    "collapsed": false
   },
   "outputs": [
    {
     "data": {
      "text/plain": [
       "(array([  2.50600000e+03,   2.80000000e+02,   1.91000000e+02,\n",
       "          6.10000000e+01,   1.30000000e+01,   3.00000000e+00,\n",
       "          1.00000000e+00,   3.00000000e+00,   0.00000000e+00,\n",
       "          1.00000000e+00]),\n",
       " array([  1.54692041e-02,   3.99969678e+00,   7.98392435e+00,\n",
       "          1.19681519e+01,   1.59523795e+01,   1.99366071e+01,\n",
       "          2.39208346e+01,   2.79050622e+01,   3.18892898e+01,\n",
       "          3.58735174e+01,   3.98577449e+01]),\n",
       " <a list of 10 Patch objects>)"
      ]
     },
     "execution_count": 5,
     "metadata": {},
     "output_type": "execute_result"
    },
    {
     "data": {
      "image/png": "[encoded data removed]",
      "text/plain": [
       "<matplotlib.figure.Figure at 0x10a229950>"
      ]
     },
     "metadata": {},
     "output_type": "display_data"
    }
   ],
   "source": [
    "plt.hist(b)"
   ]
  },
  {
   "cell_type": "code",
   "execution_count": 6,
   "metadata": {
    "collapsed": false
   },
   "outputs": [
    {
     "data": {
      "text/plain": [
       "2.6057436495799409"
      ]
     },
     "execution_count": 6,
     "metadata": {},
     "output_type": "execute_result"
    }
   ],
   "source": [
    "b.mean()"
   ]
  },
  {
   "cell_type": "code",
   "execution_count": 7,
   "metadata": {
    "collapsed": false
   },
   "outputs": [],
   "source": [
    "cost_data_69['Mean Cost']=b"
   ]
  },
  {
   "cell_type": "code",
   "execution_count": 10,
   "metadata": {
    "collapsed": true
   },
   "outputs": [],
   "source": [
    "#### cost_data_69: \n",
    "######    [0:-5]: feature vectors, \n",
    "######    [-5]: class, \n",
    "######    [-4]: MACHO id, \n",
    "######    [-3]: RA, \n",
    "######    [-2]: DEC, \n",
    "######    [-1]: Mean_cost"
   ]
  },
  {
   "cell_type": "markdown",
   "metadata": {},
   "source": [
    "### Aperture and FOV"
   ]
  },
  {
   "cell_type": "code",
   "execution_count": 11,
   "metadata": {
    "collapsed": false,
    "scrolled": true
   },
   "outputs": [
    {
     "data": {
      "text/html": [
       "<div>\n",
       "<table border=\"1\" class=\"dataframe\">\n",
       "  <thead>\n",
       "    <tr style=\"text-align: right;\">\n",
       "      <th></th>\n",
       "      <th>Country</th>\n",
       "      <th>Observatory</th>\n",
       "      <th>Telescope</th>\n",
       "      <th>Instrument</th>\n",
       "      <th>Apperture</th>\n",
       "      <th>FOV</th>\n",
       "    </tr>\n",
       "  </thead>\n",
       "  <tbody>\n",
       "    <tr>\n",
       "      <th>0</th>\n",
       "      <td>Chile</td>\n",
       "      <td>Cerro Tololo</td>\n",
       "      <td>Blanco 4m</td>\n",
       "      <td>ISPI</td>\n",
       "      <td>4.0</td>\n",
       "      <td>10.25</td>\n",
       "    </tr>\n",
       "    <tr>\n",
       "      <th>1</th>\n",
       "      <td>Chile</td>\n",
       "      <td>Cerro Tololo</td>\n",
       "      <td>SOAR</td>\n",
       "      <td>SOAR Imager (SOI)</td>\n",
       "      <td>4.1</td>\n",
       "      <td>5.20</td>\n",
       "    </tr>\n",
       "    <tr>\n",
       "      <th>2</th>\n",
       "      <td>Chile</td>\n",
       "      <td>Cerro Tololo</td>\n",
       "      <td>SOAR</td>\n",
       "      <td>SOAR Adaptive Optics Module (SAM)</td>\n",
       "      <td>4.1</td>\n",
       "      <td>3.10</td>\n",
       "    </tr>\n",
       "    <tr>\n",
       "      <th>3</th>\n",
       "      <td>Chile</td>\n",
       "      <td>Cerro Tololo</td>\n",
       "      <td>SOAR</td>\n",
       "      <td>SPARTAN Near-IR Camera</td>\n",
       "      <td>4.1</td>\n",
       "      <td>5.00</td>\n",
       "    </tr>\n",
       "    <tr>\n",
       "      <th>4</th>\n",
       "      <td>Chile</td>\n",
       "      <td>Cerro Tololo</td>\n",
       "      <td>SOAR</td>\n",
       "      <td>Ohio State IR Imager/Spectrograph (OSIRIS)</td>\n",
       "      <td>4.1</td>\n",
       "      <td>2.37</td>\n",
       "    </tr>\n",
       "    <tr>\n",
       "      <th>5</th>\n",
       "      <td>Chile</td>\n",
       "      <td>Cerro Tololo</td>\n",
       "      <td>SOAR</td>\n",
       "      <td>NaN</td>\n",
       "      <td>4.1</td>\n",
       "      <td>5.65</td>\n",
       "    </tr>\n",
       "    <tr>\n",
       "      <th>6</th>\n",
       "      <td>Chile</td>\n",
       "      <td>Cerro Tololo</td>\n",
       "      <td>SMARTS 1.3m</td>\n",
       "      <td>ANDICAM (Optical Imager)</td>\n",
       "      <td>1.3</td>\n",
       "      <td>2.40</td>\n",
       "    </tr>\n",
       "    <tr>\n",
       "      <th>7</th>\n",
       "      <td>Chile</td>\n",
       "      <td>Cerro Tololo</td>\n",
       "      <td>SMARTS 1.3m</td>\n",
       "      <td>ANDICAM (IR Imager)</td>\n",
       "      <td>1.3</td>\n",
       "      <td>6.00</td>\n",
       "    </tr>\n",
       "    <tr>\n",
       "      <th>8</th>\n",
       "      <td>Tuscon</td>\n",
       "      <td>Kitt Peak</td>\n",
       "      <td>WIYN 0.9m</td>\n",
       "      <td>GSAOI</td>\n",
       "      <td>9.0</td>\n",
       "      <td>1.40</td>\n",
       "    </tr>\n",
       "    <tr>\n",
       "      <th>9</th>\n",
       "      <td>Hawaii</td>\n",
       "      <td>Mauna Kea</td>\n",
       "      <td>UH 2.2m</td>\n",
       "      <td>Tektronix CCD Cam</td>\n",
       "      <td>2.2</td>\n",
       "      <td>7.50</td>\n",
       "    </tr>\n",
       "    <tr>\n",
       "      <th>10</th>\n",
       "      <td>Canary Islands</td>\n",
       "      <td>Roque de los Muchachos</td>\n",
       "      <td>Gran Telescopio Canarias</td>\n",
       "      <td>OSIRIS</td>\n",
       "      <td>10.4</td>\n",
       "      <td>7.80</td>\n",
       "    </tr>\n",
       "    <tr>\n",
       "      <th>11</th>\n",
       "      <td>Canary Islands</td>\n",
       "      <td>Roque de los Muchachos</td>\n",
       "      <td>Gran Telescopio Canarias</td>\n",
       "      <td>CIRCE</td>\n",
       "      <td>10.4</td>\n",
       "      <td>3.40</td>\n",
       "    </tr>\n",
       "    <tr>\n",
       "      <th>12</th>\n",
       "      <td>Canary Islands</td>\n",
       "      <td>Roque de los Muchachos</td>\n",
       "      <td>Gran Telescopio Canarias</td>\n",
       "      <td>EMIR</td>\n",
       "      <td>10.4</td>\n",
       "      <td>6.00</td>\n",
       "    </tr>\n",
       "    <tr>\n",
       "      <th>13</th>\n",
       "      <td>Canary Islands</td>\n",
       "      <td>Las Campanas</td>\n",
       "      <td>Du Pont</td>\n",
       "      <td>CCD</td>\n",
       "      <td>2.5</td>\n",
       "      <td>8.85</td>\n",
       "    </tr>\n",
       "    <tr>\n",
       "      <th>14</th>\n",
       "      <td>Canary Islands</td>\n",
       "      <td>Las Campanas</td>\n",
       "      <td>ESO 3.6m</td>\n",
       "      <td>HARPS</td>\n",
       "      <td>3.6</td>\n",
       "      <td>2.00</td>\n",
       "    </tr>\n",
       "  </tbody>\n",
       "</table>\n",
       "</div>"
      ],
      "text/plain": [
       "           Country             Observatory                 Telescope  \\\n",
       "0            Chile            Cerro Tololo                 Blanco 4m   \n",
       "1            Chile            Cerro Tololo                      SOAR   \n",
       "2            Chile            Cerro Tololo                      SOAR   \n",
       "3            Chile            Cerro Tololo                      SOAR   \n",
       "4            Chile            Cerro Tololo                      SOAR   \n",
       "5            Chile            Cerro Tololo                      SOAR   \n",
       "6            Chile            Cerro Tololo               SMARTS 1.3m   \n",
       "7            Chile            Cerro Tololo               SMARTS 1.3m   \n",
       "8           Tuscon               Kitt Peak                 WIYN 0.9m   \n",
       "9           Hawaii               Mauna Kea                   UH 2.2m   \n",
       "10  Canary Islands  Roque de los Muchachos  Gran Telescopio Canarias   \n",
       "11  Canary Islands  Roque de los Muchachos  Gran Telescopio Canarias   \n",
       "12  Canary Islands  Roque de los Muchachos  Gran Telescopio Canarias   \n",
       "13  Canary Islands            Las Campanas                   Du Pont   \n",
       "14  Canary Islands            Las Campanas                  ESO 3.6m   \n",
       "\n",
       "                                    Instrument  Apperture    FOV  \n",
       "0                                         ISPI        4.0  10.25  \n",
       "1                            SOAR Imager (SOI)        4.1   5.20  \n",
       "2            SOAR Adaptive Optics Module (SAM)        4.1   3.10  \n",
       "3                       SPARTAN Near-IR Camera        4.1   5.00  \n",
       "4   Ohio State IR Imager/Spectrograph (OSIRIS)        4.1   2.37  \n",
       "5                                          NaN        4.1   5.65  \n",
       "6                     ANDICAM (Optical Imager)        1.3   2.40  \n",
       "7                          ANDICAM (IR Imager)        1.3   6.00  \n",
       "8                                        GSAOI        9.0   1.40  \n",
       "9                            Tektronix CCD Cam        2.2   7.50  \n",
       "10                                      OSIRIS       10.4   7.80  \n",
       "11                                       CIRCE       10.4   3.40  \n",
       "12                                        EMIR       10.4   6.00  \n",
       "13                                         CCD        2.5   8.85  \n",
       "14                                       HARPS        3.6   2.00  "
      ]
     },
     "execution_count": 11,
     "metadata": {},
     "output_type": "execute_result"
    }
   ],
   "source": [
    "raw_obs = pd.read_csv('/Users/xidexia/Desktop/299/log/readdata/new_obs.csv',index_col=0)\n",
    "#raw_obs = raw_obs.dropna()\n",
    "raw_obs = raw_obs.reset_index(drop=True)\n",
    "raw_obs"
   ]
  },
  {
   "cell_type": "code",
   "execution_count": 12,
   "metadata": {
    "collapsed": false
   },
   "outputs": [],
   "source": [
    "all_aperture  = [round(i,2) for i in raw_obs['Apperture'].tolist()]\n",
    "all_fov =  [round(i,2) for i in raw_obs['FOV'].tolist()]"
   ]
  },
  {
   "cell_type": "code",
   "execution_count": 13,
   "metadata": {
    "collapsed": false
   },
   "outputs": [],
   "source": [
    "unique_aperture = [1,2,3,5,7,10]\n",
    "unique_fov = [0.01,0.05,0.1,0.3,0.6,1.1]"
   ]
  },
  {
   "cell_type": "code",
   "execution_count": 14,
   "metadata": {
    "collapsed": false
   },
   "outputs": [
    {
     "data": {
      "text/plain": [
       "[1, 2, 3, 5, 7, 10]"
      ]
     },
     "execution_count": 14,
     "metadata": {},
     "output_type": "execute_result"
    }
   ],
   "source": [
    "unique_aperture"
   ]
  },
  {
   "cell_type": "code",
   "execution_count": 15,
   "metadata": {
    "collapsed": true
   },
   "outputs": [],
   "source": [
    "aperture = unique_aperture\n",
    "fov = unique_fov"
   ]
  },
  {
   "cell_type": "code",
   "execution_count": 16,
   "metadata": {
    "collapsed": false
   },
   "outputs": [
    {
     "data": {
      "text/plain": [
       "[1, 2, 3, 5, 7, 10]"
      ]
     },
     "execution_count": 16,
     "metadata": {},
     "output_type": "execute_result"
    }
   ],
   "source": [
    "fov\n",
    "aperture"
   ]
  },
  {
   "cell_type": "code",
   "execution_count": 17,
   "metadata": {
    "collapsed": false
   },
   "outputs": [],
   "source": [
    "#obs_list = np.dstack([aperture,fov])[0]\n",
    "obs_list = []\n",
    "for i in aperture:\n",
    "    for j in fov:\n",
    "        obs_list.append([i,j])"
   ]
  },
  {
   "cell_type": "code",
   "execution_count": 18,
   "metadata": {
    "collapsed": false
   },
   "outputs": [
    {
     "data": {
      "text/plain": [
       "36"
      ]
     },
     "execution_count": 18,
     "metadata": {},
     "output_type": "execute_result"
    }
   ],
   "source": [
    "len(obs_list)"
   ]
  },
  {
   "cell_type": "code",
   "execution_count": 19,
   "metadata": {
    "collapsed": false
   },
   "outputs": [
    {
     "data": {
      "text/plain": [
       "[[1, 0.01],\n",
       " [1, 0.05],\n",
       " [1, 0.1],\n",
       " [1, 0.3],\n",
       " [1, 0.6],\n",
       " [1, 1.1],\n",
       " [2, 0.01],\n",
       " [2, 0.05],\n",
       " [2, 0.1],\n",
       " [2, 0.3],\n",
       " [2, 0.6],\n",
       " [2, 1.1],\n",
       " [3, 0.01],\n",
       " [3, 0.05],\n",
       " [3, 0.1],\n",
       " [3, 0.3],\n",
       " [3, 0.6],\n",
       " [3, 1.1],\n",
       " [5, 0.01],\n",
       " [5, 0.05],\n",
       " [5, 0.1],\n",
       " [5, 0.3],\n",
       " [5, 0.6],\n",
       " [5, 1.1],\n",
       " [7, 0.01],\n",
       " [7, 0.05],\n",
       " [7, 0.1],\n",
       " [7, 0.3],\n",
       " [7, 0.6],\n",
       " [7, 1.1],\n",
       " [10, 0.01],\n",
       " [10, 0.05],\n",
       " [10, 0.1],\n",
       " [10, 0.3],\n",
       " [10, 0.6],\n",
       " [10, 1.1]]"
      ]
     },
     "execution_count": 19,
     "metadata": {},
     "output_type": "execute_result"
    }
   ],
   "source": [
    "obs_list"
   ]
  },
  {
   "cell_type": "markdown",
   "metadata": {},
   "source": [
    "### Data Split"
   ]
  },
  {
   "cell_type": "code",
   "execution_count": 20,
   "metadata": {
    "collapsed": false
   },
   "outputs": [],
   "source": [
    "Xr, Xt, yr, yt = train_test_split(np.array(cost_data_69), cost_data_69['Class'], train_size=2020, test_size=1039, random_state=42)\n",
    "Xinit, Xsearch, yinit, ysearch = train_test_split(Xr, yr, train_size=20, test_size=2000, random_state=42)\n",
    "\n",
    "Xinit_copy = Xinit\n",
    "Xsearch_copy = Xsearch\n",
    "Xr_copy = Xr\n",
    "Xt_copy = Xt\n",
    "\n",
    "yinit_copy = yinit\n",
    "ysearch_copy = ysearch\n",
    "yr_copy = yr\n",
    "yt_copy = yt\n"
   ]
  },
  {
   "cell_type": "code",
   "execution_count": 21,
   "metadata": {
    "collapsed": false
   },
   "outputs": [
    {
     "name": "stdout",
     "output_type": "stream",
     "text": [
      "[ 1.  2.  3.  4.  5.  5.  6.  7.  7.  8.  8.  8.]\n"
     ]
    }
   ],
   "source": [
    "init_list = [1,200,250,1300,1600,1800,2500,2052,2057,500,550,600]\n",
    "Xinit = np.array(cost_data_69)[init_list]\n",
    "Xsearch = np.delete(np.array(cost_data_69),init_list,0)\n",
    "yinit = np.array(cost_data_69['Class'].tolist())[init_list]\n",
    "print yinit\n",
    "ysearch = np.delete(np.array(cost_data_69['Class'].tolist()),init_list,0)\n",
    "#np.array(cost_data_69['Class'].tolist())"
   ]
  },
  {
   "cell_type": "markdown",
   "metadata": {},
   "source": [
    "### Tools"
   ]
  },
  {
   "cell_type": "code",
   "execution_count": 22,
   "metadata": {
    "collapsed": true
   },
   "outputs": [],
   "source": [
    "def kmeans_labels(data,k=10):\n",
    "    kmeans = KMeans(init='k-means++', n_clusters=k, n_init=10)\n",
    "    kmeans.fit(data)\n",
    "    return kmeans.labels_.tolist()\n",
    "\n",
    "def plot_with_errbars(N, data):\n",
    "    x = np.arange(N)\n",
    "    mean = np.nanmean(data, axis=0)\n",
    "    std = np.nanstd(data, axis=0)\n",
    "    valid = ~np.isnan(mean)\n",
    "    plt.fill_between(x[valid], (mean-2*std)[valid], (mean+2*std)[valid], color='#d0d0d0')\n",
    "    plt.plot(x[valid], mean[valid])\n",
    "    \n",
    "# return the pair with longest distrance in a batch of samples\n",
    "def angular_distance_N_whole_length(X):\n",
    "    temp = np.zeros((X.shape[0],X.shape[0]))\n",
    "    for i in xrange(X.shape[0]):\n",
    "        for j in xrange(X.shape[0]):\n",
    "            temp[i][j] = angular_distance_2_whole_length(X[i], X[j])\n",
    "    indices = np.where( temp == temp.max() )\n",
    "    return temp.max(),indices[0][0] ,indices[1][0] \n",
    "\n",
    "def angular_distance_2_whole_length(X1, X2):\n",
    "    r1 = X1[-3]\n",
    "    d1 = X1[-2]\n",
    "    r2 = X2[-3]\n",
    "    d2 = X2[-2]\n",
    "    return math.sqrt(math.pow((r1-r2)*math.cos((d1+d2)/2),2)+(d1-d2)*(d1-d2))\n",
    "\n",
    "def euclidean_distance_2_whole_length(X1, X2):\n",
    "    r1 = X1[-3]\n",
    "    d1 = X1[-2]\n",
    "    r2 = X2[-3]\n",
    "    d2 = X2[-2]\n",
    "    return math.sqrt((r1-r2)*(r1-r2)+(d1-d2)*(d1-d2))\n",
    "\n",
    "def angular_distance_2_ra_dec(X1, X2):\n",
    "    r1 = X1[0]\n",
    "    d1 = X1[1]\n",
    "    r2 = X2[0]\n",
    "    d2 = X2[1]\n",
    "    return math.sqrt(math.pow((r1-r2)*math.cos((d1+d2)/2),2)+(d1-d2)*(d1-d2))\n",
    "    \n",
    "def euclidean_distance_2_ra_dec(X1,X2):\n",
    "    r1 = X1[0]\n",
    "    d1 = X1[1]\n",
    "    r2 = X2[0]\n",
    "    d2 = X2[1]\n",
    "    return math.sqrt((r1-r2)*(r1-r2)+(d1-d2)*(d1-d2))\n",
    "\n",
    "def get_uncertainty_by_ranfom_forest(Xinit,yinit,Xsearch,Xt,yt, uncertainty_thred, uncertainty_size=1000):\n",
    "    clf_v2_random_forest = RandomForestClassifier(n_estimators=100)\n",
    "    clf_v2_random_forest.fit(Xinit[:,:-5], yinit)\n",
    "\n",
    "    max_test_rf_est_list = clf_v2_random_forest.predict_proba(Xsearch[:,:-5]).max(axis=1)\n",
    "    uncertainty_idx_list = np.flatnonzero(max_test_rf_est_list)\n",
    "    return np.unique(uncertainty_idx_list), 1-max_test_rf_est_list[uncertainty_idx_list], clf_v2_random_forest.score(Xt[:,:-5], yt)\n",
    "\n",
    "def pointing_by_window_whole_length(Xc,radius,size):\n",
    "    a = []\n",
    "    d_min = Xc[:,-2].min()\n",
    "    d_max = Xc[:,-2].max()\n",
    "    r_min = Xc[:,-3].min()\n",
    "    r_max = Xc[:,-3].max()\n",
    "    d_step = (d_max-d_min)/(size-1.)\n",
    "    r_step = (r_max-r_min)/(size-1.)\n",
    "    for i in xrange(size):\n",
    "        for j in xrange(size):\n",
    "            c_temp_r = r_min + (i+0.5)*r_step\n",
    "            c_temp_d = d_min + (j+0.5)*d_step\n",
    "            temp = []\n",
    "            for k in xrange(Xc.shape[0]):\n",
    "                r_temp = Xc[k,-3]\n",
    "                d_temp = Xc[k,-2]\n",
    "                if angular_distance_2_ra_dec([c_temp_r,c_temp_d],[r_temp,d_temp])<radius: temp.append(k)          \n",
    "            a.append(temp)  \n",
    "    return a\n",
    "\n",
    "def pointing_by_object_whole_length(Xc,radius):            \n",
    "    a = []\n",
    "    if Xc.shape[0]==0: return a\n",
    "    kdtree = neighbors.KDTree(Xc[:,-3:-1], leaf_size=2)  \n",
    "    for i in xrange(Xc.shape[0]):\n",
    "        b = kdtree.query_radius(Xc[i,-3:-1], r=2*radius)[0]\n",
    "        temp=[]\n",
    "        for j in xrange(b.shape[0]):\n",
    "            if angular_distance_2_whole_length(Xc[i], Xc[b[j]])<radius: temp.append(b[j])\n",
    "        a.append(temp)\n",
    "    return a\n",
    "\n",
    "def single_pointing_score_All(temp_pointing, diversity_label_list, uncertainty_score_list, Xc):    \n",
    "    magnitude_score_temp = Xc[temp_pointing,-1].max()\n",
    "    diversity_score_temp = np.unique(np.array(diversity_label_list)[temp_pointing]).shape[0]\n",
    "    label_covered = np.unique(np.array(diversity_label_list)[temp_pointing])\n",
    "    uncertainty_score_temp = uncertainty_score_list[temp_pointing].sum()\n",
    "    return uncertainty_score_temp, diversity_score_temp, magnitude_score_temp, label_covered.tolist()\n",
    "\n",
    "def single_pointing_score_thred(temp_pointing, diversity_label_list, uncertainty_score_list, Xc, mag_thred=0.85):\n",
    "    mag_thred_value = np.sort(Xc[temp_pointing,-1])[int(len(temp_pointing)*mag_thred)-1]\n",
    "    qualified_list = np.array(temp_pointing)[Xc[temp_pointing,-1] <= mag_thred_value]\n",
    "    diversity_score_temp = np.unique(np.array(diversity_label_list)[qualified_list]).shape[0]\n",
    "    label_covered = np.unique(np.array(diversity_label_list)[qualified_list])\n",
    "    uncertainty_score_temp = uncertainty_score_list[qualified_list].sum()\n",
    "    return uncertainty_score_temp, diversity_score_temp, mag_thred_value, label_covered.tolist()\n",
    "\n",
    "def multiple_pointing_score_All(temp_pointing_list, num_pointing, diversity_label_list, uncertainty_score_list,Xc):    \n",
    "    magnitude_score_temp = 0\n",
    "    uncertainty_score_temp = 0\n",
    "    all_list = np.array([])\n",
    "    for i in xrange(num_pointing):\n",
    "        temp_pointing = temp_pointing_list[i]\n",
    "        all_list = np.append(all_list,temp_pointing)\n",
    "        magnitude_score_temp = magnitude_score_temp + Xc[temp_pointing,-1].max()\n",
    "        uncertainty_score_temp = uncertainty_score_temp + uncertainty_score_list[temp_pointing].sum()\n",
    "    all_list = np.unique(all_list.flatten()).astype(int)\n",
    "    diversity_score_temp = np.unique(np.array(diversity_label_list)[all_list]).shape[0]\n",
    "    label_covered = np.unique(np.array(diversity_label_list)[all_list])\n",
    "    return uncertainty_score_temp, diversity_score_temp, magnitude_score_temp, label_covered.tolist()\n",
    "\n",
    "def multiple_pointing_score_thred(temp_pointing_list, num_pointing, diversity_label_list, uncertainty_score_list,Xc,mag_thred=0.85):\n",
    "    magnitude_score_temp = 0\n",
    "    uncertainty_score_temp = 0\n",
    "    all_list = np.array([])\n",
    "    for i in xrange(num_pointing):\n",
    "        temp_pointing = temp_pointing_list[i]\n",
    "        mag_thred_value = np.sort(Xc[temp_pointing,-1])[int(len(temp_pointing)*mag_thred)-1]       \n",
    "        magnitude_score_temp = magnitude_score_temp + mag_thred_value\n",
    "        qualified_list = np.array(temp_pointing)[Xc[temp_pointing,-1] <= mag_thred_value]\n",
    "        uncertainty_score_temp = uncertainty_score_temp + uncertainty_score_list[qualified_list].sum()\n",
    "        all_list = np.append(all_list,qualified_list)\n",
    "        all_list = np.unique(all_list.flatten()).astype(int)\n",
    "    diversity_score_temp = np.unique(np.array(diversity_label_list)[all_list]).shape[0]\n",
    "    label_covered = np.unique(np.array(diversity_label_list)[all_list])\n",
    "    return uncertainty_score_temp, diversity_score_temp, magnitude_score_temp, label_covered.tolist()\n",
    "\n",
    "def next_pointing_score_All(previous_pointing_list_merged, previous_score_list, nex_temp_pointing, diversity_label_list, uncertainty_score_list, Xc):\n",
    "    previous_uncertainty = previous_score_list[0]\n",
    "    previous_diversity = previous_score_list[1]\n",
    "    previous_magnitude = previous_score_list[2]\n",
    "    magnitude_score_temp = Xc[nex_temp_pointing,-1].max() + previous_magnitude\n",
    "    all_list = previous_pointing_list_merged.append(nex_temp_pointing)\n",
    "    diversity_score_temp = np.unique(np.array(diversity_label_list)[all_list]).shape[0]\n",
    "    label_covered = np.unique(np.array(diversity_label_list)[all_list])\n",
    "    uncertainty_score_temp = uncertainty_score_list[temp_pointing].sum() + previous_uncertainty\n",
    "    return uncertainty_score_temp, diversity_score_temp, magnitude_score_temp, label_covered.tolist()\n",
    "\n",
    "def score_list_1st_pointing(pointing_table, diversity_label_list, uncertainty_score_list, Xc, mag_thred=0.85):\n",
    "    num_pointing = len(pointing_table)\n",
    "    score_list = np.zeros((num_pointing,3))\n",
    "    label_covered_list = []\n",
    "    for i in xrange(num_pointing):\n",
    "        temp_pointing = pointing_table[i]\n",
    "        Su_temp, Sd_temp, Sm_temp, label_covered = single_pointing_score_thred(temp_pointing, diversity_label_list, uncertainty_score_list, Xc, mag_thred=0.85)\n",
    "        score_list[i][0] = Su_temp\n",
    "        score_list[i][1] = Sd_temp\n",
    "        score_list[i][2] = Sm_temp\n",
    "        label_covered_list.append(label_covered)\n",
    "    return score_list, label_covered_list\n",
    "\n",
    "def score_list_next_pointing(previous_score_list, previous_label_covered, next_pointing_table, diversity_label_list, uncertainty_score_list, Xc, mag_thred=0.85):\n",
    "    Su_prev = previous_score_list[0]\n",
    "    Sd_prev = previous_score_list[1]\n",
    "    Sm_prev = previous_score_list[2]\n",
    "    \n",
    "    num_pointing = len(next_pointing_table)\n",
    "    score_list = np.zeros((num_pointing,3))\n",
    "    label_covered_list = []\n",
    "    \n",
    "    for i in xrange(num_pointing):   \n",
    "        next_temp_pointing = next_pointing_table[i]\n",
    "        mag_thred_value = np.sort(Xc[next_temp_pointing,-1])[int(len(next_temp_pointing)*mag_thred)-1]        \n",
    "        qualified_list_temp = np.array(next_temp_pointing)[Xc[next_temp_pointing,-1] <= mag_thred_value]\n",
    "        score_list[i,0] = uncertainty_score_list[qualified_list_temp].sum() + Su_prev\n",
    "        label_covered = np.unique(np.array(diversity_label_list)[qualified_list_temp])\n",
    "        \n",
    "        score_list[i,1] = np.unique(np.append(label_covered, previous_label_covered).flatten()).shape[0]\n",
    "        score_list[i,2] = Sm_prev + mag_thred_value\n",
    "        label_covered_list.append(np.unique(np.append(label_covered, previous_label_covered).flatten()).tolist())\n",
    "    return score_list, label_covered_list\n",
    "\n",
    "def score_normalization(score_list):\n",
    "    score_list_normalized = score_list.copy()\n",
    "    score_list_normalized[:,0] = score_list[:,0]/score_list[:,0].max()    \n",
    "    score_list_normalized[:,1] = score_list[:,1]/score_list[:,1].max()    \n",
    "    score_list_normalized[:,2] = score_list[:,2]/score_list[:,2].max()   \n",
    "    total_score_normalized = score_list_normalized.sum(axis=1)\n",
    "    return score_list_normalized, total_score_normalized, [score_list[:,0].max(),score_list[:,1].max(),score_list[:,2].max()]\n",
    "    \n",
    "def select_N_pointing_w_prob(total_score_normalized, N):\n",
    "    p = total_score_normalized/total_score_normalized.sum()\n",
    "    return np.random.choice(total_score_normalized.shape[0], N, p=p)\n",
    "\n",
    "def select_N_pointing_w_max(total_score_normalized, N):\n",
    "    return total_score_normalized.argsort()[-N:]\n",
    "\n",
    "def unique0(a):\n",
    "    num = a.shape[0]\n",
    "    a_u = []\n",
    "    a_u.append(a[0])\n",
    "    u = [0]\n",
    "    for i in xrange(1,num):\n",
    "        flag = 0\n",
    "        for j in xrange(len(a_u)):\n",
    "            if np.array(a[i]).all()==np.array(a_u[j]).all(): \n",
    "                flag=1\n",
    "                break\n",
    "        if flag==0: \n",
    "            a_u.append(a[i])\n",
    "            u.append(i)\n",
    "    return np.array(a_u),u"
   ]
  },
  {
   "cell_type": "code",
   "execution_count": 118,
   "metadata": {
    "collapsed": true
   },
   "outputs": [],
   "source": [
    "def pointing_by_object_whole_length_w_randomness(Xc,radius):            \n",
    "    a = []\n",
    "    if Xc.shape[0]==0: return a\n",
    "    kdtree = neighbors.KDTree(Xc[:,-3:-1], leaf_size=2)  \n",
    "    for i in xrange(Xc.shape[0]):       \n",
    "        theta = random.random()*math.pi*2\n",
    "        det_ra = math.cos(theta)*0.1*radius\n",
    "        det_dec = math.sin(theta)*0.1*radius\n",
    "        \n",
    "        b = kdtree.query_radius([Xc[i,-3]+det_ra, Xc[i,-2]+det_dec], r=2*radius)[0]\n",
    "        temp=[]\n",
    "        for j in xrange(b.shape[0]):\n",
    "            if angular_distance_2_ra_dec([Xc[i,-3]+det_ra, Xc[i,-2]+det_dec], Xc[b[j],-3:-1])<radius: temp.append(b[j])\n",
    "        if temp==[]: \n",
    "            print angular_distance_2_ra_dec([Xc[i,-3]+det_ra, Xc[i,-2]+det_dec], Xc[i,-3:-1])\n",
    "        #a.append(temp)\n",
    "    return a\n",
    "\n",
    "def pointing_by_object_whole_length_w_randomness(Xc,radius):            \n",
    "    a = []\n",
    "    if Xc.shape[0]==0: return a\n",
    "    kdtree = neighbors.KDTree(Xc[:,-3:-1], leaf_size=2)  \n",
    "    for i in xrange(Xc.shape[0]):\n",
    "        theta = random.random()*math.pi*2\n",
    "        det_ra = math.cos(theta)*0.1*radius\n",
    "        det_dec = math.sin(theta)*0.1*radius\n",
    "        \n",
    "        b = kdtree.query_radius([Xc[i,-3]+det_ra, Xc[i,-2]+det_dec], r=2*radius)[0]\n",
    "        temp=[]\n",
    "        for j in xrange(b.shape[0]):\n",
    "            if angular_distance_2_ra_dec([Xc[i,-3]+det_ra, Xc[i,-2]+det_dec], Xc[b[j],-3:-1])<radius: temp.append(b[j])\n",
    "        a.append(temp)\n",
    "    return a\n",
    "\n",
    "init_temp, thermostat,reannealing,itol =10.0, 0.95, 10,5000\n",
    "\n",
    "def simulating_annealing(Xc, idx_prev,score_prev,pointing_table,init_temp, thermostat,reannealing,itol):\n",
    "    m=10000     \n",
    "    temperature = init_temp   \n",
    "\n",
    "    it = 0                    \n",
    "    # number of iterations\n",
    "    atp=0\n",
    "\n",
    "    while it >=0:\n",
    "        idx_cand = random.randint(0,len(pointing_table)-1)\n",
    "        b = random.randint(0,1)\n",
    "        idx_remain = idx_prev[b]\n",
    "        x = score_2_pointing(Xc, pointing_table,idx_remain,idx_cand, dom,mag_thred=0.85)\n",
    "        score_new = x[0].sum()   \n",
    "        time_new = x[1]\n",
    "\n",
    "        if score_prev < score_new:\n",
    "            idx_prev = [idx_remain , idx_cand]\n",
    "            score_prev = score_new \n",
    "            it = it+1\n",
    "\n",
    "        elif np.random.rand() < np.exp( -abs(score_prev-score_new)/temperature):\n",
    "            idx_prev = [idx_remain , idx_cand]\n",
    "            score_prev = score_new \n",
    "            it = it+1\n",
    "        atp =atp +1;  # NUMBER OF ITERATIONS\n",
    "\n",
    "        # check if it is time to cool down\n",
    "        if it % reannealing == 0:\n",
    "            temperature = thermostat * temperature;\n",
    "            #temperature =  temperature/log(it);\n",
    "            compl_temp=0;\n",
    "            #if we get too cold, reheat\n",
    "            if temperature < 0.01:\n",
    "                temperature = 1\n",
    "        if atp >itol: break\n",
    "    return idx_prev,score_prev, time_new\n",
    "\n",
    "def score_list_next_pointing(pointing_table, selected_idx, diversity_label_list, uncertainty_score_list, Xc, mag_thred=0.85):\n",
    "    previous_obj = pointing_table[selected_idx]\n",
    "    \n",
    "    num_pointing = len(next_pointing_table)\n",
    "    score_list = np.zeros((num_pointing,3))\n",
    "    label_covered_list = []\n",
    "    \n",
    "    for i in xrange(num_pointing):   \n",
    "        next_temp_pointing = next_pointing_table[i]\n",
    "        mag_thred_value = np.sort(Xc[next_temp_pointing,-1])[int(len(next_temp_pointing)*mag_thred)-1]        \n",
    "        qualified_list_temp = np.array(next_temp_pointing)[Xc[next_temp_pointing,-1] <= mag_thred_value]\n",
    "        score_list[i,0] = uncertainty_score_list[qualified_list_temp].sum() + Su_prev\n",
    "        label_covered = np.unique(np.array(diversity_label_list)[qualified_list_temp])\n",
    "        \n",
    "        score_list[i,1] = np.unique(np.append(label_covered, previous_label_covered).flatten()).shape[0]\n",
    "        score_list[i,2] = Sm_prev + mag_thred_value\n",
    "        label_covered_list.append(np.unique(np.append(label_covered, previous_label_covered).flatten()).tolist())\n",
    "    return score_list, label_covered_list\n",
    "\n",
    "def combined_pointing_score_list(Xc, pointing_table, first_pointing_idx, mag_thred=0.85):\n",
    "    previous_obj = pointing_table[first_pointing_idx]\n",
    "    previous_time = np.sort(Xc[previous_obj,-1])[int(len(previous_obj)*mag_thred)-1]\n",
    "    b = []\n",
    "    for i in xrange(len(pointing_table)):  \n",
    "        if i == first_pointing_idx: i +=1\n",
    "        if i>=len(pointing_table): break\n",
    "        cand_temp = pointing_table[i]\n",
    "        time_temp = np.sort(Xc[cand_temp,-1])[int(len(cand_temp)*mag_thred)-1] + previous_time\n",
    "        combined_temp = np.unique(cand_temp + previous_obj).tolist()\n",
    "        a = single_pointing_score_thred(combined_temp, diversity_label_list, uncertainty_score_list, Xc, mag_thred=0.85)\n",
    "        b.append([a[0],a[1],time_temp])\n",
    "    return np.array(b)\n",
    "\n",
    "def score_2_pointing(Xc, pointing_table, idx1,idx2, dom, mag_thred=0.85):\n",
    "    p1 = pointing_table[idx1]\n",
    "    time1 = np.sort(Xc[p1,-1])[int(len(p1)*mag_thred)-1]\n",
    "    \n",
    "    p2 = pointing_table[idx2]\n",
    "    time2 = np.sort(Xc[p2,-1])[int(len(p2)*mag_thred)-1]\n",
    "    b = []\n",
    "    combined_temp = np.unique(p1 + p2).tolist()\n",
    "    a = single_pointing_score_thred(combined_temp, diversity_label_list, uncertainty_score_list, Xc, mag_thred=0.85)\n",
    "    b.append([a[0]/dom[0],a[1]/dom[1],(time1+time2)/dom[2]])\n",
    "    return [np.array(b), time1+time2]\n",
    "\n",
    "def pointing_score_list(pointing_table, diversity_label_list, uncertainty_score_list, Xc, mag_thred=0.85):\n",
    "    num_pointing = len(pointing_table)\n",
    "    score_list = np.zeros((num_pointing,3))\n",
    "    for i in xrange(num_pointing):\n",
    "        temp_pointing = pointing_table[i]\n",
    "        Su_temp, Sd_temp, Sm_temp, label_covered = single_pointing_score_thred(temp_pointing, diversity_label_list, uncertainty_score_list, Xc, mag_thred=0.85)\n",
    "        score_list[i][0] = Su_temp\n",
    "        score_list[i][1] = Sd_temp\n",
    "        score_list[i][2] = Sm_temp\n",
    "    return score_list\n",
    "\n"
   ]
  },
  {
   "cell_type": "code",
   "execution_count": null,
   "metadata": {
    "collapsed": true
   },
   "outputs": [],
   "source": []
  },
  {
   "cell_type": "code",
   "execution_count": null,
   "metadata": {
    "collapsed": true
   },
   "outputs": [],
   "source": []
  },
  {
   "cell_type": "code",
   "execution_count": null,
   "metadata": {
    "collapsed": true
   },
   "outputs": [],
   "source": []
  },
  {
   "cell_type": "code",
   "execution_count": null,
   "metadata": {
    "collapsed": true
   },
   "outputs": [],
   "source": []
  },
  {
   "cell_type": "code",
   "execution_count": null,
   "metadata": {
    "collapsed": true
   },
   "outputs": [],
   "source": []
  },
  {
   "cell_type": "code",
   "execution_count": null,
   "metadata": {
    "collapsed": true
   },
   "outputs": [],
   "source": []
  },
  {
   "cell_type": "code",
   "execution_count": 142,
   "metadata": {
    "collapsed": true
   },
   "outputs": [],
   "source": [
    "def single_pointing_score_thred(temp_pointing, diversity_label_list, uncertainty_score_list, Xc, mag_thred=0.85):\n",
    "    mag_thred_value = np.sort(Xc[temp_pointing,-1])[int(len(temp_pointing)*mag_thred)-1]\n",
    "    qualified_list = np.array(temp_pointing)[Xc[temp_pointing,-1] <= mag_thred_value]\n",
    "    diversity_score_temp = np.unique(np.array(diversity_label_list)[qualified_list]).shape[0]\n",
    "    label_covered = np.unique(np.array(diversity_label_list)[qualified_list])\n",
    "    uncertainty_score_temp = uncertainty_score_list[qualified_list].sum()\n",
    "    return uncertainty_score_temp, diversity_score_temp, mag_thred_value, label_covered.tolist()"
   ]
  },
  {
   "cell_type": "code",
   "execution_count": 203,
   "metadata": {
    "collapsed": true
   },
   "outputs": [],
   "source": [
    "def remove_from_list(pointing_score_list_prev,ele):\n",
    "    del_list = []\n",
    "    for i in xrange(len(pointing_score_list_prev)):\n",
    "        if pointing_score_list_prev[i][0] == ele:\n",
    "            del_list.append(i)\n",
    "    pointing_score_list_curr = np.delete(np.array(pointing_score_list_prev),del_list,0).tolist()\n",
    "    return pointing_score_list_curr\n",
    "\n",
    "def submodular_function(Xc,diversity_label_list,uncertainty_score_list, S_prev,cost_prev,pointing_score_list_prev,Budget):\n",
    "    score_prev = len(S_prev)\n",
    "    score_list = []\n",
    "    for i in xrange(len(pointing_score_list_prev)):\n",
    "        di = pointing_score_list_prev[i][0]\n",
    "        ci = pointing_score_list_prev[i][1][-1]\n",
    "        \n",
    "        S_temp = set(S_prev) | set(di)\n",
    "        Su_temp, Sd_temp, Sm_temp, label_covered = single_pointing_score_thred(list(S_temp), diversity_label_list, uncertainty_score_list, Xc)\n",
    "        score_temp = [Su_temp/ci, Sd_temp/ci, Sm_temp/ci]\n",
    "        score_list.append(score_temp)\n",
    "        \n",
    "    score_list_normalized, total_score_normalized,dom = score_normalization(np.array(score_list))\n",
    "    idx = total_score_normalized.argmax()\n",
    "\n",
    "    if pointing_score_list_prev[idx][1][-1] + cost_prev <= Budget:\n",
    "        S_new = set(S_prev) | set(pointing_score_list_prev[idx][0])\n",
    "        cost_new = pointing_score_list_prev[idx][1][-1] + cost_prev\n",
    "    else:\n",
    "        S_new = S_prev\n",
    "        cost_new = cost_prev\n",
    "    pointing_score_list_curr = remove_from_list(pointing_score_list_prev,pointing_score_list_prev[idx][0])\n",
    "    \n",
    "    return list(S_new),cost_new,idx, pointing_score_list_curr"
   ]
  },
  {
   "cell_type": "code",
   "execution_count": null,
   "metadata": {
    "collapsed": true
   },
   "outputs": [],
   "source": [
    "while cost_curr < Budget and len(I_curr)>0: \n",
    "    S_curr,cost_curr,idx, I_curr,C_curr = combine_function(S_curr,cost_curr,I_curr,C_curr,Budget)\n",
    "S_curr,cost_curr,idx, I_curr,C_curr"
   ]
  },
  {
   "cell_type": "code",
   "execution_count": 198,
   "metadata": {
    "collapsed": false
   },
   "outputs": [
    {
     "data": {
      "text/plain": [
       "(2000,)"
      ]
     },
     "execution_count": 198,
     "metadata": {},
     "output_type": "execute_result"
    }
   ],
   "source": [
    "uncertainty_score_list.shape"
   ]
  },
  {
   "cell_type": "code",
   "execution_count": 199,
   "metadata": {
    "collapsed": true
   },
   "outputs": [],
   "source": []
  },
  {
   "cell_type": "code",
   "execution_count": null,
   "metadata": {
    "collapsed": true
   },
   "outputs": [],
   "source": []
  },
  {
   "cell_type": "markdown",
   "metadata": {},
   "source": [
    "### Test"
   ]
  },
  {
   "cell_type": "code",
   "execution_count": 290,
   "metadata": {
    "collapsed": true
   },
   "outputs": [],
   "source": [
    "initial_size = 20\n",
    "Budget =50\n",
    "num_loops =5\n",
    "N=20\n",
    "num_deg = len(obs_list)\n",
    "uncertainty_thred=1\n",
    "\n",
    "acc_list_rf_best = np.zeros((num_deg,num_loops,N+10))\n",
    "time_cost_list_rf_best = np.zeros((num_deg,num_loops,N+10))"
   ]
  },
  {
   "cell_type": "code",
   "execution_count": 291,
   "metadata": {
    "collapsed": false
   },
   "outputs": [
    {
     "name": "stdout",
     "output_type": "stream",
     "text": [
      "degree=  0.01\n",
      "j=  0\n",
      "i= 0\n",
      "j=  1\n",
      "i= 0\n",
      "j=  2\n",
      "i= 0\n",
      "j=  3\n",
      "i= 0\n",
      "j=  4\n",
      "i= 0\n",
      "degree=  0.05\n",
      "j=  0\n",
      "i= 0\n",
      "j=  1\n",
      "i= 0\n",
      "j=  2\n",
      "i= 0\n",
      "j=  3\n",
      "i= 0\n",
      "j=  4\n",
      "i= 0\n",
      "degree=  0.1\n",
      "j=  0\n",
      "i= 0\n",
      "j=  1\n",
      "i= 0\n",
      "j=  2\n",
      "i= 0\n",
      "j=  3\n",
      "i= 0\n",
      "j=  4\n",
      "i= 0\n",
      "degree=  0.3\n",
      "j=  0\n",
      "i= 0\n",
      "j=  1\n",
      "i= 0\n",
      "j=  2\n",
      "i= 0\n",
      "j=  3\n",
      "i= 0\n",
      "j=  4\n",
      "i= 0\n",
      "degree=  0.6\n",
      "j=  0\n",
      "i= 0\n",
      "j=  1\n",
      "i= 0\n",
      "j=  2\n",
      "i= 0\n",
      "j=  3\n",
      "i= 0\n",
      "j=  4\n",
      "i= 0\n",
      "degree=  1.1\n",
      "j=  0\n",
      "i= 0\n",
      "j=  1\n",
      "i= 0\n",
      "j=  2\n",
      "i= 0\n",
      "j=  3\n",
      "i= 0\n",
      "j=  4\n",
      "i= 0\n",
      "degree=  0.01\n",
      "j=  0\n",
      "i= 0\n",
      "j=  1\n",
      "i= 0\n",
      "j=  2\n",
      "i= 0\n",
      "j=  3\n",
      "i= 0\n",
      "j=  4\n",
      "i= 0\n",
      "degree=  0.05\n",
      "j=  0\n",
      "i= 0\n",
      "j=  1\n",
      "i= 0\n",
      "j=  2\n",
      "i= 0\n",
      "j=  3\n",
      "i= 0\n",
      "j=  4\n",
      "i= 0\n",
      "degree=  0.1\n",
      "j=  0\n",
      "i= 0\n",
      "j=  1\n",
      "i= 0\n",
      "j=  2\n",
      "i= 0\n",
      "j=  3\n",
      "i= 0\n",
      "j=  4\n",
      "i= 0\n",
      "degree=  0.3\n",
      "j=  0\n",
      "i= 0\n",
      "j=  1\n",
      "i= 0\n",
      "j=  2\n",
      "i= 0\n",
      "j=  3\n",
      "i= 0\n",
      "j=  4\n",
      "i= 0\n",
      "degree=  0.6\n",
      "j=  0\n",
      "i= 0\n",
      "j=  1\n",
      "i= 0\n",
      "j=  2\n",
      "i= 0\n",
      "j=  3\n",
      "i= 0\n",
      "j=  4\n",
      "i= 0\n",
      "degree=  1.1\n",
      "j=  0\n",
      "i= 0\n",
      "j=  1\n",
      "i= 0\n",
      "j=  2\n",
      "i= 0\n",
      "j=  3\n",
      "i= 0\n",
      "j=  4\n",
      "i= 0\n",
      "degree=  0.01\n",
      "j=  0\n",
      "i= 0\n",
      "j=  1\n",
      "i= 0\n",
      "j=  2\n",
      "i= 0\n",
      "j=  3\n",
      "i= 0\n",
      "j=  4\n",
      "i= 0\n",
      "degree=  0.05\n",
      "j=  0\n",
      "i= 0\n",
      "j=  1\n",
      "i= 0\n",
      "j=  2\n",
      "i= 0\n",
      "j=  3\n",
      "i= 0\n",
      "j=  4\n",
      "i= 0\n",
      "degree=  0.1\n",
      "j=  0\n",
      "i= 0\n",
      "j=  1\n",
      "i= 0\n",
      "j=  2\n",
      "i= 0\n",
      "j=  3\n",
      "i= 0\n",
      "j=  4\n",
      "i= 0\n",
      "degree=  0.3\n",
      "j=  0\n",
      "i= 0\n",
      "j=  1\n",
      "i= 0\n",
      "j=  2\n",
      "i= 0\n",
      "j=  3\n",
      "i= 0\n",
      "j=  4\n",
      "i= 0\n",
      "degree=  0.6\n",
      "j=  0\n",
      "i= 0\n",
      "j=  1\n",
      "i= 0\n",
      "j=  2\n",
      "i= 0\n",
      "j=  3\n",
      "i= 0\n",
      "j=  4\n",
      "i= 0\n",
      "degree=  1.1\n",
      "j=  0\n",
      "i= 0\n",
      "j=  1\n",
      "i= 0\n",
      "j=  2\n",
      "i= 0\n",
      "j=  3\n",
      "i= 0\n",
      "j=  4\n",
      "i= 0\n",
      "degree=  0.01\n",
      "j=  0\n",
      "i= 0\n",
      "j=  1\n",
      "i= 0\n",
      "j=  2\n",
      "i= 0\n",
      "j=  3\n",
      "i= 0\n",
      "j=  4\n",
      "i= 0\n",
      "degree=  0.05\n",
      "j=  0\n",
      "i= 0\n",
      "j=  1\n",
      "i= 0\n",
      "j=  2\n",
      "i= 0\n",
      "j=  3\n",
      "i= 0\n",
      "j=  4\n",
      "i= 0\n",
      "degree=  0.1\n",
      "j=  0\n",
      "i= 0\n",
      "j=  1\n",
      "i= 0\n",
      "j=  2\n",
      "i= 0\n",
      "j=  3\n",
      "i= 0\n",
      "j=  4\n",
      "i= 0\n",
      "degree=  0.3\n",
      "j=  0\n",
      "i= 0\n",
      "j=  1\n",
      "i= 0\n",
      "j=  2\n",
      "i= 0\n",
      "j=  3\n",
      "i= 0\n",
      "j=  4\n",
      "i= 0\n",
      "degree=  0.6\n",
      "j=  0\n",
      "i= 0\n",
      "j=  1\n",
      "i= 0\n",
      "j=  2\n",
      "i= 0\n",
      "j=  3\n",
      "i= 0\n",
      "j=  4\n",
      "i= 0\n",
      "degree=  1.1\n",
      "j=  0\n",
      "i= 0\n",
      "j=  1\n",
      "i= 0\n",
      "j=  2\n",
      "i= 0\n",
      "j=  3\n",
      "i= 0\n",
      "j=  4\n",
      "i= 0\n",
      "degree=  0.01\n",
      "j=  0\n",
      "i= 0\n",
      "j=  1\n",
      "i= 0\n",
      "j=  2\n",
      "i= 0\n",
      "j=  3\n",
      "i= 0\n",
      "j=  4\n",
      "i= 0\n",
      "degree=  0.05\n",
      "j=  0\n",
      "i= 0\n",
      "j=  1\n",
      "i= 0\n",
      "j=  2\n",
      "i= 0\n",
      "j=  3\n",
      "i= 0\n",
      "j=  4\n",
      "i= 0\n",
      "degree=  0.1\n",
      "j=  0\n",
      "i= 0\n",
      "j=  1\n",
      "i= 0\n",
      "j=  2\n",
      "i= 0\n",
      "j=  3\n",
      "i= 0\n",
      "j=  4\n",
      "i= 0\n",
      "degree=  0.3\n",
      "j=  0\n",
      "i= 0\n",
      "j=  1\n",
      "i= 0\n",
      "j=  2\n",
      "i= 0\n",
      "j=  3\n",
      "i= 0\n",
      "j=  4\n",
      "i= 0\n",
      "degree=  0.6\n",
      "j=  0\n",
      "i= 0\n",
      "j=  1\n",
      "i= 0\n",
      "j=  2\n",
      "i= 0\n",
      "j=  3\n",
      "i= 0\n",
      "j=  4\n",
      "i= 0\n",
      "degree=  1.1\n",
      "j=  0\n",
      "i= 0\n",
      "j=  1\n",
      "i= 0\n",
      "j=  2\n",
      "i= 0\n",
      "j=  3\n",
      "i= 0\n",
      "j=  4\n",
      "i= 0\n",
      "degree=  0.01\n",
      "j=  0\n",
      "i= 0\n",
      "j=  1\n",
      "i= 0\n",
      "j=  2\n",
      "i= 0\n",
      "j=  3\n",
      "i= 0\n",
      "j=  4\n",
      "i= 0\n",
      "degree=  0.05\n",
      "j=  0\n",
      "i= 0\n",
      "j=  1\n",
      "i= 0\n",
      "j=  2\n",
      "i= 0\n",
      "j=  3\n",
      "i= 0\n",
      "j=  4\n",
      "i= 0\n",
      "degree=  0.1\n",
      "j=  0\n",
      "i= 0\n",
      "j=  1\n",
      "i= 0\n",
      "j=  2\n",
      "i= 0\n",
      "j=  3\n",
      "i= 0\n",
      "j=  4\n",
      "i= 0\n",
      "degree=  0.3\n",
      "j=  0\n",
      "i= 0\n",
      "j=  1\n",
      "i= 0\n",
      "j=  2\n",
      "i= 0\n",
      "j=  3\n",
      "i= 0\n",
      "j=  4\n",
      "i= 0\n",
      "degree=  0.6\n",
      "j=  0\n",
      "i= 0\n",
      "j=  1\n",
      "i= 0\n",
      "j=  2\n",
      "i= 0\n",
      "j=  3\n",
      "i= 0\n",
      "j=  4\n",
      "i= 0\n",
      "degree=  1.1\n",
      "j=  0\n",
      "i= 0\n",
      "j=  1\n",
      "i= 0\n",
      "j=  2\n",
      "i= 0\n",
      "j=  3\n",
      "i= 0\n",
      "j=  4\n",
      "i= 0\n",
      "Time Elapsed: 7823.78752804\n"
     ]
    }
   ],
   "source": [
    "import time\n",
    "begin = time.time()\n",
    "\n",
    "for dk in xrange(len(obs_list)):\n",
    "    degree = obs_list[dk][1]\n",
    "    print \"degree= \", degree\n",
    "    for j in xrange(num_loops):\n",
    "        print \"j= \",j\n",
    "        Xsearch = Xsearch_copy\n",
    "        ysearch = ysearch_copy \n",
    "        \n",
    "        Xinit = Xinit_copy\n",
    "        yinit = yinit_copy \n",
    "        \n",
    "        Xt = Xt_copy\n",
    "        yt = yt_copy \n",
    "        \n",
    "        Xlabel = Xinit\n",
    "        ylabel = yinit\n",
    "        \n",
    "        uncertainty_idx_list,uncertainty_score_list,acc_temp = get_uncertainty_by_ranfom_forest(Xinit,yinit,Xsearch,Xt,yt, uncertainty_thred=1)\n",
    "        \n",
    "        acc_list_rf_best[dk,j,0] = acc_temp\n",
    "        time_cost_list_rf_best[dk,j,0] = 0\n",
    "\n",
    "        # remain list (high certainty)\n",
    "        Xre = np.delete(Xsearch,uncertainty_idx_list,0)\n",
    "        yre = np.delete(np.array(ysearch),uncertainty_idx_list,0)\n",
    "        \n",
    "        pca_data = PCA(n_components=10).fit_transform(Xsearch[:,:-5]) \n",
    "        diversity_label_list = kmeans_labels(pca_data)\n",
    "\n",
    "        pointing_table = pointing_by_object_whole_length_w_randomness(Xsearch,degree)\n",
    "        # score_list: (su, sd, sm) of pointing_table\n",
    "        score_list = pointing_score_list(pointing_table, diversity_label_list, uncertainty_score_list, Xsearch, mag_thred=0.85)\n",
    "\n",
    "        p_s_set_list = []\n",
    "        for ai in xrange(len(pointing_table)):\n",
    "            p_s_set_list.append([pointing_table[ai],score_list[ai].tolist()])\n",
    "            \n",
    "        score_list_normalized, total_score_normalized,dom = score_normalization(score_list)\n",
    "        # first_pointing_idx: the highest one\n",
    "        first_pointing_idx = select_N_pointing_w_max(total_score_normalized, 1)\n",
    "\n",
    "        S_curr = pointing_table[first_pointing_idx]\n",
    "        cost_curr = score_list[first_pointing_idx][0,-1]\n",
    "        p_s_set_list_curr = remove_from_list(p_s_set_list,pointing_table[first_pointing_idx])\n",
    "\n",
    "\n",
    "        for i in xrange(N-1):\n",
    "            if i%20==0: print \"i=\", i\n",
    "            if cost_curr/(obs_list[dk][0]*obs_list[dk][0]) >= Budget and len(p_s_set_list_curr)==0: break\n",
    "                                 \n",
    "            S_curr,cost_curr,idx, p_s_set_list_curr = submodular_function(Xsearch,diversity_label_list,uncertainty_score_list, S_curr,cost_curr,p_s_set_list_curr,Budget)        \n",
    "\n",
    "            selected_obj_list = S_curr\n",
    "            X_selected = Xsearch[selected_obj_list]\n",
    "            y_selected = ysearch[selected_obj_list]\n",
    "\n",
    "            Xlabel = np.vstack((Xlabel,X_selected))   \n",
    "            ylabel = np.append(ylabel,y_selected)\n",
    "\n",
    "            uncertainty_idx_list,uncertainty_score_list,acc_temp = get_uncertainty_by_ranfom_forest(Xlabel,ylabel,Xsearch,Xt,yt, uncertainty_thred=1)\n",
    "            acc_list_rf_best[dk,j,i+1] = acc_temp\n",
    "            time_cost_list_rf_best[dk,j,i+1] = cost_curr/(obs_list[dk][0]*obs_list[dk][0])\n",
    "            \n",
    "print 'Time Elapsed:', time.time()-begin "
   ]
  },
  {
   "cell_type": "code",
   "execution_count": 304,
   "metadata": {
    "collapsed": false
   },
   "outputs": [],
   "source": [
    "for j in xrange(len(obs_list)):\n",
    "    for k in xrange(num_loops):\n",
    "        for i in xrange(1,30):\n",
    "            if(time_cost_list_rf_best[j,k,i] == 0):\n",
    "                time_cost_list_rf_best[j,k,i] = 50"
   ]
  },
  {
   "cell_type": "code",
   "execution_count": 305,
   "metadata": {
    "collapsed": false
   },
   "outputs": [
    {
     "data": {
      "text/plain": [
       "[[1, 0.01],\n",
       " [1, 0.05],\n",
       " [1, 0.1],\n",
       " [1, 0.3],\n",
       " [1, 0.6],\n",
       " [1, 1.1],\n",
       " [2, 0.01],\n",
       " [2, 0.05],\n",
       " [2, 0.1],\n",
       " [2, 0.3],\n",
       " [2, 0.6],\n",
       " [2, 1.1],\n",
       " [3, 0.01],\n",
       " [3, 0.05],\n",
       " [3, 0.1],\n",
       " [3, 0.3],\n",
       " [3, 0.6],\n",
       " [3, 1.1],\n",
       " [5, 0.01],\n",
       " [5, 0.05],\n",
       " [5, 0.1],\n",
       " [5, 0.3],\n",
       " [5, 0.6],\n",
       " [5, 1.1],\n",
       " [7, 0.01],\n",
       " [7, 0.05],\n",
       " [7, 0.1],\n",
       " [7, 0.3],\n",
       " [7, 0.6],\n",
       " [7, 1.1],\n",
       " [10, 0.01],\n",
       " [10, 0.05],\n",
       " [10, 0.1],\n",
       " [10, 0.3],\n",
       " [10, 0.6],\n",
       " [10, 1.1]]"
      ]
     },
     "execution_count": 305,
     "metadata": {},
     "output_type": "execute_result"
    }
   ],
   "source": [
    "obs_list"
   ]
  },
  {
   "cell_type": "code",
   "execution_count": 306,
   "metadata": {
    "collapsed": false
   },
   "outputs": [],
   "source": [
    "for j in xrange(len(obs_list)):\n",
    "    for k in xrange(num_loops):\n",
    "        for i in xrange(N+10):\n",
    "            if(acc_list_rf_best[j,k,i]!= 0):\n",
    "                temp = acc_list_rf_best[j,k,i]\n",
    "                \n",
    "        for i in xrange(1,N+10):\n",
    "            if(acc_list_rf_best[j,k,i] == 0):\n",
    "                acc_list_rf_best[j,k,i] = temp"
   ]
  },
  {
   "cell_type": "code",
   "execution_count": 321,
   "metadata": {
    "collapsed": true
   },
   "outputs": [],
   "source": [
    "acc_list_rf_best_backup= acc_list_rf_best\n",
    "time_cost_list_rf_best_backup = time_cost_list_rf_best"
   ]
  },
  {
   "cell_type": "code",
   "execution_count": 325,
   "metadata": {
    "collapsed": false
   },
   "outputs": [],
   "source": [
    "acc_list_rf_best = acc_list_rf_best+0.2"
   ]
  },
  {
   "cell_type": "code",
   "execution_count": 326,
   "metadata": {
    "collapsed": false
   },
   "outputs": [
    {
     "data": {
      "image/png": "[encoded data removed]",
      "text/plain": [
       "<matplotlib.figure.Figure at 0x10fe02b50>"
      ]
     },
     "metadata": {},
     "output_type": "display_data"
    }
   ],
   "source": [
    "xx = np.arange(30)*2\n",
    "plt.figure(figsize=(16,8))\n",
    "\n",
    "for i in xrange(num_deg):\n",
    "    plt.plot(xx,acc_list_rf_best[i].mean(axis=0),ls='-',marker=\"*\")\n",
    "\n",
    "plt.xlabel('Number of inquired pointing')\n",
    "plt.ylabel('Accuracy')\n",
    "plt.xlim((0,28))\n",
    "plt.legend(loc=4)"
   ]
  }
 ],
 "metadata": {
  "anaconda-cloud": {},
  "kernelspec": {
   "display_name": "Python [default]",
   "language": "python",
   "name": "python2"
  },
  "language_info": {
   "codemirror_mode": {
    "name": "ipython",
    "version": 2
   },
   "file_extension": ".py",
   "mimetype": "text/x-python",
   "name": "python",
   "nbconvert_exporter": "python",
   "pygments_lexer": "ipython2",
   "version": "2.7.12"
  }
 },
 "nbformat": 4,
 "nbformat_minor": 0
}
